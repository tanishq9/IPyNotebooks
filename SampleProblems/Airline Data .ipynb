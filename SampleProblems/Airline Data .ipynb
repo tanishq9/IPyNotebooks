{
 "cells": [
  {
   "cell_type": "markdown",
   "metadata": {},
   "source": [
    "## Importing Modules"
   ]
  },
  {
   "cell_type": "code",
   "execution_count": 1,
   "metadata": {},
   "outputs": [],
   "source": [
    "import pandas as pd"
   ]
  },
  {
   "cell_type": "markdown",
   "metadata": {},
   "source": [
    "## Loading and Cleaning"
   ]
  },
  {
   "cell_type": "code",
   "execution_count": 2,
   "metadata": {},
   "outputs": [],
   "source": [
    "airline_data = pd.read_csv('airline_data.csv')"
   ]
  },
  {
   "cell_type": "code",
   "execution_count": 3,
   "metadata": {},
   "outputs": [],
   "source": [
    "airline_data.dropna(inplace=True)"
   ]
  },
  {
   "cell_type": "code",
   "execution_count": 4,
   "metadata": {
    "scrolled": true
   },
   "outputs": [
    {
     "data": {
      "text/plain": [
       "(54486, 25)"
      ]
     },
     "execution_count": 4,
     "metadata": {},
     "output_type": "execute_result"
    }
   ],
   "source": [
    "airline_data.shape"
   ]
  },
  {
   "cell_type": "code",
   "execution_count": 5,
   "metadata": {},
   "outputs": [
    {
     "data": {
      "text/plain": [
       "Index(['YEAR', 'MONTH', 'DAY', 'DAY_OF_WEEK', 'AIRLINE', 'FLIGHT_NUMBER',\n",
       "       'TAIL_NUMBER', 'ORIGIN_AIRPORT', 'DESTINATION_AIRPORT',\n",
       "       'SCHEDULED_DEPARTURE', 'DEPARTURE_TIME', 'DEPARTURE_DELAY', 'TAXI_OUT',\n",
       "       'WHEELS_OFF', 'SCHEDULED_TIME', 'ELAPSED_TIME', 'AIR_TIME', 'DISTANCE',\n",
       "       'WHEELS_ON', 'TAXI_IN', 'SCHEDULED_ARRIVAL', 'ARRIVAL_TIME',\n",
       "       'ARRIVAL_DELAY', 'DIVERTED', 'CANCELLED'],\n",
       "      dtype='object')"
      ]
     },
     "execution_count": 5,
     "metadata": {},
     "output_type": "execute_result"
    }
   ],
   "source": [
    "airline_data.columns"
   ]
  },
  {
   "cell_type": "code",
   "execution_count": 6,
   "metadata": {},
   "outputs": [],
   "source": [
    "airline_data = airline_data.loc[:,['AIRLINE','DEPARTURE_TIME','FLIGHT_NUMBER',\n",
    "                                   'DAY','ORIGIN_AIRPORT','DESTINATION_AIRPORT','DAY_OF_WEEK','DEPARTURE_DELAY']]"
   ]
  },
  {
   "cell_type": "code",
   "execution_count": 7,
   "metadata": {},
   "outputs": [
    {
     "data": {
      "text/html": [
       "<div>\n",
       "<style scoped>\n",
       "    .dataframe tbody tr th:only-of-type {\n",
       "        vertical-align: middle;\n",
       "    }\n",
       "\n",
       "    .dataframe tbody tr th {\n",
       "        vertical-align: top;\n",
       "    }\n",
       "\n",
       "    .dataframe thead th {\n",
       "        text-align: right;\n",
       "    }\n",
       "</style>\n",
       "<table border=\"1\" class=\"dataframe\">\n",
       "  <thead>\n",
       "    <tr style=\"text-align: right;\">\n",
       "      <th></th>\n",
       "      <th>AIRLINE</th>\n",
       "      <th>DEPARTURE_TIME</th>\n",
       "      <th>FLIGHT_NUMBER</th>\n",
       "      <th>DAY</th>\n",
       "      <th>ORIGIN_AIRPORT</th>\n",
       "      <th>DESTINATION_AIRPORT</th>\n",
       "      <th>DAY_OF_WEEK</th>\n",
       "      <th>DEPARTURE_DELAY</th>\n",
       "    </tr>\n",
       "  </thead>\n",
       "  <tbody>\n",
       "    <tr>\n",
       "      <th>0</th>\n",
       "      <td>B6</td>\n",
       "      <td>618.0</td>\n",
       "      <td>2023</td>\n",
       "      <td>1</td>\n",
       "      <td>JFK</td>\n",
       "      <td>SJU</td>\n",
       "      <td>4</td>\n",
       "      <td>43.0</td>\n",
       "    </tr>\n",
       "    <tr>\n",
       "      <th>1</th>\n",
       "      <td>AA</td>\n",
       "      <td>640.0</td>\n",
       "      <td>2299</td>\n",
       "      <td>1</td>\n",
       "      <td>JFK</td>\n",
       "      <td>MIA</td>\n",
       "      <td>4</td>\n",
       "      <td>55.0</td>\n",
       "    </tr>\n",
       "    <tr>\n",
       "      <th>2</th>\n",
       "      <td>B6</td>\n",
       "      <td>545.0</td>\n",
       "      <td>939</td>\n",
       "      <td>1</td>\n",
       "      <td>JFK</td>\n",
       "      <td>BQN</td>\n",
       "      <td>4</td>\n",
       "      <td>0.0</td>\n",
       "    </tr>\n",
       "    <tr>\n",
       "      <th>3</th>\n",
       "      <td>AA</td>\n",
       "      <td>552.0</td>\n",
       "      <td>1205</td>\n",
       "      <td>1</td>\n",
       "      <td>EWR</td>\n",
       "      <td>MIA</td>\n",
       "      <td>4</td>\n",
       "      <td>-7.0</td>\n",
       "    </tr>\n",
       "    <tr>\n",
       "      <th>4</th>\n",
       "      <td>UA</td>\n",
       "      <td>603.0</td>\n",
       "      <td>319</td>\n",
       "      <td>1</td>\n",
       "      <td>EWR</td>\n",
       "      <td>MCO</td>\n",
       "      <td>4</td>\n",
       "      <td>3.0</td>\n",
       "    </tr>\n",
       "  </tbody>\n",
       "</table>\n",
       "</div>"
      ],
      "text/plain": [
       "  AIRLINE  DEPARTURE_TIME  FLIGHT_NUMBER  DAY ORIGIN_AIRPORT  \\\n",
       "0      B6           618.0           2023    1            JFK   \n",
       "1      AA           640.0           2299    1            JFK   \n",
       "2      B6           545.0            939    1            JFK   \n",
       "3      AA           552.0           1205    1            EWR   \n",
       "4      UA           603.0            319    1            EWR   \n",
       "\n",
       "  DESTINATION_AIRPORT  DAY_OF_WEEK  DEPARTURE_DELAY  \n",
       "0                 SJU            4             43.0  \n",
       "1                 MIA            4             55.0  \n",
       "2                 BQN            4              0.0  \n",
       "3                 MIA            4             -7.0  \n",
       "4                 MCO            4              3.0  "
      ]
     },
     "execution_count": 7,
     "metadata": {},
     "output_type": "execute_result"
    }
   ],
   "source": [
    "airline_data.head()"
   ]
  },
  {
   "cell_type": "code",
   "execution_count": 8,
   "metadata": {},
   "outputs": [],
   "source": [
    "df_copy = airline_data.copy()\n",
    "df_copy = pd.get_dummies(df_copy,columns=['AIRLINE','FLIGHT_NUMBER',\n",
    "                                                    'DAY','ORIGIN_AIRPORT','DESTINATION_AIRPORT'])"
   ]
  },
  {
   "cell_type": "code",
   "execution_count": 9,
   "metadata": {},
   "outputs": [
    {
     "data": {
      "text/html": [
       "<div>\n",
       "<style scoped>\n",
       "    .dataframe tbody tr th:only-of-type {\n",
       "        vertical-align: middle;\n",
       "    }\n",
       "\n",
       "    .dataframe tbody tr th {\n",
       "        vertical-align: top;\n",
       "    }\n",
       "\n",
       "    .dataframe thead th {\n",
       "        text-align: right;\n",
       "    }\n",
       "</style>\n",
       "<table border=\"1\" class=\"dataframe\">\n",
       "  <thead>\n",
       "    <tr style=\"text-align: right;\">\n",
       "      <th></th>\n",
       "      <th>AIRLINE</th>\n",
       "      <th>DEPARTURE_TIME</th>\n",
       "      <th>FLIGHT_NUMBER</th>\n",
       "      <th>DAY</th>\n",
       "      <th>ORIGIN_AIRPORT</th>\n",
       "      <th>DESTINATION_AIRPORT</th>\n",
       "      <th>DAY_OF_WEEK</th>\n",
       "      <th>DEPARTURE_DELAY</th>\n",
       "    </tr>\n",
       "  </thead>\n",
       "  <tbody>\n",
       "    <tr>\n",
       "      <th>0</th>\n",
       "      <td>B6</td>\n",
       "      <td>618.0</td>\n",
       "      <td>2023</td>\n",
       "      <td>1</td>\n",
       "      <td>JFK</td>\n",
       "      <td>SJU</td>\n",
       "      <td>4</td>\n",
       "      <td>43.0</td>\n",
       "    </tr>\n",
       "    <tr>\n",
       "      <th>1</th>\n",
       "      <td>AA</td>\n",
       "      <td>640.0</td>\n",
       "      <td>2299</td>\n",
       "      <td>1</td>\n",
       "      <td>JFK</td>\n",
       "      <td>MIA</td>\n",
       "      <td>4</td>\n",
       "      <td>55.0</td>\n",
       "    </tr>\n",
       "    <tr>\n",
       "      <th>2</th>\n",
       "      <td>B6</td>\n",
       "      <td>545.0</td>\n",
       "      <td>939</td>\n",
       "      <td>1</td>\n",
       "      <td>JFK</td>\n",
       "      <td>BQN</td>\n",
       "      <td>4</td>\n",
       "      <td>0.0</td>\n",
       "    </tr>\n",
       "    <tr>\n",
       "      <th>3</th>\n",
       "      <td>AA</td>\n",
       "      <td>552.0</td>\n",
       "      <td>1205</td>\n",
       "      <td>1</td>\n",
       "      <td>EWR</td>\n",
       "      <td>MIA</td>\n",
       "      <td>4</td>\n",
       "      <td>-7.0</td>\n",
       "    </tr>\n",
       "    <tr>\n",
       "      <th>4</th>\n",
       "      <td>UA</td>\n",
       "      <td>603.0</td>\n",
       "      <td>319</td>\n",
       "      <td>1</td>\n",
       "      <td>EWR</td>\n",
       "      <td>MCO</td>\n",
       "      <td>4</td>\n",
       "      <td>3.0</td>\n",
       "    </tr>\n",
       "  </tbody>\n",
       "</table>\n",
       "</div>"
      ],
      "text/plain": [
       "  AIRLINE  DEPARTURE_TIME  FLIGHT_NUMBER  DAY ORIGIN_AIRPORT  \\\n",
       "0      B6           618.0           2023    1            JFK   \n",
       "1      AA           640.0           2299    1            JFK   \n",
       "2      B6           545.0            939    1            JFK   \n",
       "3      AA           552.0           1205    1            EWR   \n",
       "4      UA           603.0            319    1            EWR   \n",
       "\n",
       "  DESTINATION_AIRPORT  DAY_OF_WEEK  DEPARTURE_DELAY  \n",
       "0                 SJU            4             43.0  \n",
       "1                 MIA            4             55.0  \n",
       "2                 BQN            4              0.0  \n",
       "3                 MIA            4             -7.0  \n",
       "4                 MCO            4              3.0  "
      ]
     },
     "execution_count": 9,
     "metadata": {},
     "output_type": "execute_result"
    }
   ],
   "source": [
    "airline_data.head()"
   ]
  },
  {
   "cell_type": "code",
   "execution_count": 10,
   "metadata": {},
   "outputs": [
    {
     "data": {
      "text/plain": [
       "(54486, 2245)"
      ]
     },
     "execution_count": 10,
     "metadata": {},
     "output_type": "execute_result"
    }
   ],
   "source": [
    "df_copy.shape"
   ]
  },
  {
   "cell_type": "markdown",
   "metadata": {},
   "source": [
    "## Splitting"
   ]
  },
  {
   "cell_type": "code",
   "execution_count": 11,
   "metadata": {},
   "outputs": [],
   "source": [
    "train_test_split = 0.6\n",
    "i_train = int(airline_data.shape[0]*train_test_split)"
   ]
  },
  {
   "cell_type": "code",
   "execution_count": 12,
   "metadata": {},
   "outputs": [],
   "source": [
    "X_train = df_copy.loc[0:i_train].drop(columns=['DEPARTURE_DELAY'])\n",
    "Y_train = df_copy.loc[0:i_train,'DEPARTURE_DELAY']\n",
    "X_test = df_copy.loc[i_train+1:].drop(columns=['DEPARTURE_DELAY'])\n",
    "Y_test = df_copy.loc[i_train+1:,'DEPARTURE_DELAY']"
   ]
  },
  {
   "cell_type": "markdown",
   "metadata": {},
   "source": [
    "## Modelling"
   ]
  },
  {
   "cell_type": "code",
   "execution_count": 13,
   "metadata": {},
   "outputs": [
    {
     "name": "stderr",
     "output_type": "stream",
     "text": [
      "/home/tanishqsaluja/anaconda3/lib/python3.6/site-packages/sklearn/ensemble/weight_boosting.py:29: DeprecationWarning: numpy.core.umath_tests is an internal NumPy module and should not be imported. It will be removed in a future NumPy release.\n",
      "  from numpy.core.umath_tests import inner1d\n"
     ]
    },
    {
     "data": {
      "text/plain": [
       "RandomForestRegressor(bootstrap=True, criterion='mse', max_depth=6,\n",
       "           max_features='auto', max_leaf_nodes=None,\n",
       "           min_impurity_decrease=0.0, min_impurity_split=None,\n",
       "           min_samples_leaf=1, min_samples_split=2,\n",
       "           min_weight_fraction_leaf=0.0, n_estimators=10, n_jobs=1,\n",
       "           oob_score=False, random_state=0, verbose=0, warm_start=False)"
      ]
     },
     "execution_count": 13,
     "metadata": {},
     "output_type": "execute_result"
    }
   ],
   "source": [
    "from sklearn.ensemble import RandomForestRegressor\n",
    "model=RandomForestRegressor(max_depth=6,random_state=0) # fixing max_depth is pre pruning\n",
    "model.fit(X_train,Y_train)"
   ]
  },
  {
   "cell_type": "code",
   "execution_count": 23,
   "metadata": {},
   "outputs": [
    {
     "name": "stdout",
     "output_type": "stream",
     "text": [
      "0.29800976240817223\n",
      "0.1896198986108466\n"
     ]
    }
   ],
   "source": [
    "print(model.score(X_train,Y_train))\n",
    "print(model.score(X_test,Y_test))"
   ]
  },
  {
   "cell_type": "markdown",
   "metadata": {},
   "source": [
    "## Saving Weights"
   ]
  },
  {
   "cell_type": "code",
   "execution_count": 18,
   "metadata": {},
   "outputs": [],
   "source": [
    "import pickle"
   ]
  },
  {
   "cell_type": "code",
   "execution_count": 22,
   "metadata": {},
   "outputs": [],
   "source": [
    "pickle.dump(model,open(\"model_airline.pkl\",\"wb\"))"
   ]
  },
  {
   "cell_type": "code",
   "execution_count": 21,
   "metadata": {},
   "outputs": [
    {
     "data": {
      "text/plain": [
       "(24666, 2244)"
      ]
     },
     "execution_count": 21,
     "metadata": {},
     "output_type": "execute_result"
    }
   ],
   "source": [
    "X_test.shape"
   ]
  },
  {
   "cell_type": "code",
   "execution_count": null,
   "metadata": {},
   "outputs": [],
   "source": []
  },
  {
   "cell_type": "code",
   "execution_count": null,
   "metadata": {},
   "outputs": [],
   "source": []
  },
  {
   "cell_type": "code",
   "execution_count": null,
   "metadata": {},
   "outputs": [],
   "source": []
  },
  {
   "cell_type": "code",
   "execution_count": null,
   "metadata": {},
   "outputs": [],
   "source": []
  },
  {
   "cell_type": "code",
   "execution_count": null,
   "metadata": {},
   "outputs": [],
   "source": [
    "from flask import Flask, request\n",
    "from flask import render_template\n",
    "import pandas as pd\n",
    "import numpy as np\n",
    "from sklearn.externals import joblib\n",
    "from datetime import datetime\n",
    "app = Flask(__name__)\n",
    "\n",
    "@app.route('/plot1')\n",
    "def plot1():\n",
    "    return render_template('plot1.html')\n",
    "\n",
    "@app.route('/plot2')\n",
    "def plot2():\n",
    "    return render_template('plot2.html')\n",
    "\n",
    "@app.route('/plot3')\n",
    "def plot3():\n",
    "    return render_template('plot3.html')\n",
    "\n",
    "\n",
    "@app.route('/')\n",
    "def home():\n",
    "    return render_template('home.html')\n",
    "\n",
    "@app.route('/getscore',methods=['POST','GET'])\n",
    "def get_score():\n",
    "    if request.method=='POST':\n",
    "        result=request.form\n",
    "        #Get the filenames for the score file and the map files\n",
    "        filename=result['origin']+'_'+result['dest']+'.csv'\n",
    "        map_filename = 'static/map_files/'+result['origin']+'_'+result['dest']+'.png'\n",
    "\n",
    "        df = pd.read_csv('data/'+filename)\n",
    "        data = {'origin': result['origin'], 'dest':result['dest'],\n",
    "            'origin_city': df.loc[0,'TEXT_DATA'],'origin_name': df.loc[1,'TEXT_DATA'],\n",
    "            'dest_city': df.loc[2,'TEXT_DATA'],'dest_name': df.loc[3,'TEXT_DATA'],\n",
    "            'dist': df.loc[4,'TEXT_DATA'],\n",
    "            'tag': df.loc[5,'TEXT_DATA'],\n",
    "                'dep_delay': df.loc[6,'ARR_DELAY'],\n",
    "                'avg_flights': df.loc[7,'ARR_DELAY'],\n",
    "                'percent_delayed': df.loc[8,'ARR_DELAY'],\n",
    "                'arr_delay': df.loc[9,'ARR_DELAY'],\n",
    "                'carrier_1': df.loc[10,'Description'],'carrier_1_perc': df.loc[10,'count'],'carrier_1_delay_15': df.loc[10,'DELAY_15'],\n",
    "                'carrier_2': df.loc[11,'Description'],'carrier_2_perc': df.loc[11,'count'],'carrier_2_delay_15': df.loc[11,'DELAY_15'],\n",
    "                'carrier_3': df.loc[12,'Description'],'carrier_3_perc': df.loc[12,'count'],'carrier_3_delay_15': df.loc[12,'DELAY_15'],                \n",
    "                'carrier_4': df.loc[13,'Description'],'carrier_4_perc': df.loc[13,'count'],'carrier_4_delay_15': df.loc[13,'DELAY_15'],\n",
    "                'carrier_5': df.loc[14,'Description'],'carrier_5_perc': df.loc[14,'count'],'carrier_5_delay_15': df.loc[14,'DELAY_15']\n",
    "                }\n",
    "                \n",
    "        #Check if user wants a delay prediction\n",
    "        try:\n",
    "            if result['check_delay']=='on':\n",
    "                predict_delay=1\n",
    "        except:\n",
    "            predict_delay=0\n",
    "            prob=0\n",
    "            delay=0\n",
    "        \n",
    "        #If user wants delay prediction:\n",
    "        if predict_delay==1:            \n",
    "            try:\n",
    "                dt = result['dt']\n",
    "                dt = datetime.strptime(dt, \"%Y-%m-%d\")\n",
    "                month = dt.month\n",
    "                day_of_week = dt.weekday()\n",
    "                unique_carrier = result['unique_carrier']\n",
    "                origin = result['origin']\n",
    "                dest = result['dest']\n",
    "                dep_hour = int(result['dep_hour'])\n",
    "                arr_hour = int(result['arr_hour'])\n",
    "                dist = df.loc[4,'TEXT_DATA']\n",
    "\n",
    "                #Create numerical data\n",
    "                df_weather = pd.read_csv('weather_airports.csv')\n",
    "                DEP_HOURLYVISIBILITY = df_weather[(df_weather['IATA']==origin)&(df_weather['MONTH']==month)&(df_weather['HOUR']==dep_hour)]['HOURLYVISIBILITY'].values[0]\n",
    "                DEP_HOURLYDRYBULBTEMPC = df_weather[(df_weather['IATA']==origin)&(df_weather['MONTH']==month)&(df_weather['HOUR']==dep_hour)]['HOURLYDRYBULBTEMPC'].values[0]\n",
    "                DEP_HOURLYWindSpeed = df_weather[(df_weather['IATA']==origin)&(df_weather['MONTH']==month)&(df_weather['HOUR']==dep_hour)]['HOURLYWindSpeed'].values[0]\n",
    "                DEP_HOURLYPrecip = df_weather[(df_weather['IATA']==origin)&(df_weather['MONTH']==month)&(df_weather['HOUR']==dep_hour)]['HOURLYPrecip'].values[0]\n",
    "        \n",
    "                ARR_HOURLYVISIBILITY = df_weather[(df_weather['IATA']==origin)&(df_weather['MONTH']==month)&(df_weather['HOUR']==arr_hour)]['HOURLYVISIBILITY'].values[0]\n",
    "                ARR_HOURLYDRYBULBTEMPC = df_weather[(df_weather['IATA']==origin)&(df_weather['MONTH']==month)&(df_weather['HOUR']==arr_hour)]['HOURLYDRYBULBTEMPC'].values[0]\n",
    "                ARR_HOURLYWindSpeed = df_weather[(df_weather['IATA']==origin)&(df_weather['MONTH']==month)&(df_weather['HOUR']==arr_hour)]['HOURLYWindSpeed'].values[0]\n",
    "                ARR_HOURLYPrecip = df_weather[(df_weather['IATA']==origin)&(df_weather['MONTH']==month)&(df_weather['HOUR']==arr_hour)]['HOURLYPrecip'].values[0]\n",
    "        \n",
    "                df_numerical = pd.DataFrame([[dist,DEP_HOURLYVISIBILITY,DEP_HOURLYDRYBULBTEMPC,DEP_HOURLYWindSpeed,DEP_HOURLYPrecip,ARR_HOURLYVISIBILITY,ARR_HOURLYDRYBULBTEMPC,ARR_HOURLYWindSpeed,ARR_HOURLYPrecip]])\n",
    "        \n",
    "                scaler = joblib.load('model/scale_model.pkl') \n",
    "                df_numerical = pd.DataFrame(scaler.transform(df_numerical))\n",
    "        \t\t\n",
    "        \t\t#Prepare Categorical data\n",
    "                cat = pd.read_csv('cat')\n",
    "                index_dict = dict(zip(cat.columns,range(cat.shape[1])))\n",
    "        \t\t\n",
    "                cat_vector = np.zeros(len(cat.columns))\n",
    "        \n",
    "                try:\n",
    "                    cat_vector[index_dict['MONTH_'+str(month)]] = 1\n",
    "                except:\n",
    "                    pass\n",
    "                try:\n",
    "                    cat_vector[index_dict['DAY_OF_WEEK_'+str(day_of_week)]] = 1\n",
    "                except:\n",
    "                    pass\n",
    "                try:\n",
    "                    cat_vector[index_dict['UNIQUE_CARRIER_'+str(unique_carrier)]] = 1\n",
    "                except:\n",
    "                    pass\n",
    "                try:\n",
    "                    cat_vector[index_dict['ORIGIN_'+str(origin)]] = 1\n",
    "                except:\n",
    "                    pass\n",
    "                try:\n",
    "                    cat_vector[index_dict['DEST_'+str(dest)]] = 1\n",
    "                except:\n",
    "                    pass\n",
    "                try:\n",
    "                    cat_vector[index_dict['DEP_HOUR_'+str(dep_hour)]] = 1\n",
    "                except:\n",
    "                    pass\n",
    "                try:\n",
    "                    cat_vector[index_dict['ARR_HOUR_'+str(arr_hour)]] = 1\n",
    "                except:\n",
    "                    pass\n",
    "                \n",
    "                df_train = pd.concat([df_numerical,pd.DataFrame([cat_vector])],axis=1)\n",
    "                lm = joblib.load('model/linearmodel.pkl')\n",
    "                predictions = lm.predict(df_train)\n",
    "                df_train['PREDICTED_ARR_DELAY']=[np.exp(p) for p in predictions]\n",
    "                \n",
    "                \n",
    "                n = 10 #Number of models to average over\n",
    "                df_train['DELAY_YN'] = np.zeros(len(df_train.index))\n",
    "        \n",
    "                for i in range(n):\n",
    "                    logmodel = joblib.load('model/'+str(i)+'_logmodel.pkl')\n",
    "                    df_train['DELAY_YN'] = df_train['DELAY_YN'] + logmodel.predict_proba(df_train.drop(['DELAY_YN','PREDICTED_ARR_DELAY'],axis=1))[:,1]\n",
    "                \n",
    "                df_train['DELAY_YN'] = df_train['DELAY_YN'].apply(lambda x:(x/n)*100,2)  \n",
    "                df_train['PREDICTED_DELAY_YN'] = df_train['DELAY_YN'].apply(lambda x:1 if x>=50 else 0) #Take 0.5 as threshold\n",
    "                #df_train['PREDICTED_ARR_DELAY'] = df_train['PREDICTED_ARR_DELAY'].multiply(df_train['PREDICTED_DELAY_YN'])\n",
    "                #df_train['PREDICTED_ARR_DELAY'] = df_train['PREDICTED_ARR_DELAY'].apply(lambda x:x if x>=5 else 0)\n",
    "               \n",
    "                prob = (int(df_train['DELAY_YN'].values[0]*100))/100\n",
    "                delay = df_train['PREDICTED_ARR_DELAY'].values[0]\n",
    "                predict_delay = 1\n",
    "                \n",
    "            except:\n",
    "                predict_delay=0\n",
    "                prob=0\n",
    "                delay=0\n",
    "        \n",
    "        plotdata=df.tail(5).copy()\n",
    "        plotdata.fillna(0,inplace=True)\n",
    "        plotdata.sort_values('ARR_DELAY',ascending=False,inplace=True)\n",
    "        chartID = 'chart_ID'\n",
    "        chart = {\"renderTo\": chartID, \"type\": 'bar', \"width\": 600, \"height\": 300, \"backgroundColor\": '#f1f1f1',}\n",
    "\n",
    "        d1 = {'y':plotdata['ARR_DELAY'].tolist()[0],'color':'#B81300'}\n",
    "        d2 = {'y':plotdata['ARR_DELAY'].tolist()[1],'color':'#C93A0B'}\n",
    "        d3 = {'y':plotdata['ARR_DELAY'].tolist()[2],'color':'#DB6217'}\n",
    "        d4 = {'y':plotdata['ARR_DELAY'].tolist()[3],'color':'#ED8A22'}\n",
    "        d5 = {'y':plotdata['ARR_DELAY'].tolist()[4],'color':'#FFB22E'}\n",
    "        d = [d1,d2,d3,d4,d5]\n",
    "\n",
    "        series = [{\"showInLegend\": \"false\",  \"name\": 'Average Delay (Minutes)', \"data\": d}]\n",
    "        title = {\"text\": ''}\n",
    "        xAxis = {\"categories\": plotdata['Description'].tolist()}\n",
    "        yAxis = {\"title\": {\"text\": 'Arrival Delay (Minutes)'}}\n",
    "\t\n",
    "        \n",
    "        return render_template('score.html',data=data,map_filename=map_filename,prob=prob,delay=delay,chartID=chartID, chart=chart, series=series, title=title, xAxis=xAxis, yAxis=yAxis,predict_delay=predict_delay)\n",
    "\t\t\n",
    "    \n",
    "    \n",
    "if __name__ == '__main__':\n",
    "\tapp.debug = True\n",
    "\tapp.run()"
   ]
  },
  {
   "cell_type": "code",
   "execution_count": null,
   "metadata": {},
   "outputs": [],
   "source": []
  }
 ],
 "metadata": {
  "kernelspec": {
   "display_name": "Python 3",
   "language": "python",
   "name": "python3"
  },
  "language_info": {
   "codemirror_mode": {
    "name": "ipython",
    "version": 3
   },
   "file_extension": ".py",
   "mimetype": "text/x-python",
   "name": "python",
   "nbconvert_exporter": "python",
   "pygments_lexer": "ipython3",
   "version": "3.6.6"
  }
 },
 "nbformat": 4,
 "nbformat_minor": 2
}
